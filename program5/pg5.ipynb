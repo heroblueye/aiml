{
 "cells": [
  {
   "cell_type": "code",
   "execution_count": 2,
   "id": "11f8608a",
   "metadata": {},
   "outputs": [
    {
     "name": "stdout",
     "output_type": "stream",
     "text": [
      "*******************************************\n",
      "iteration error: 0 :::: [[ 0.09004492 -0.94385319]]\n",
      "####input######## [2 3]\n",
      "#####Expected output###### [1. 0.]\n",
      "#####output####### [[0.90995508 0.94385319]]\n",
      "*******************************************\n",
      "iteration error: 1 :::: [[ 0.08873565 -0.93371146]]\n",
      "####input######## [2 3]\n",
      "#####Expected output###### [1. 0.]\n",
      "#####output####### [[0.91126435 0.93371146]]\n",
      "*******************************************\n",
      "iteration error: 2 :::: [[ 0.08746059 -0.9220457 ]]\n",
      "####input######## [2 3]\n",
      "#####Expected output###### [1. 0.]\n",
      "#####output####### [[0.91253941 0.9220457 ]]\n",
      "*******************************************\n",
      "iteration error: 3 :::: [[ 0.08621797 -0.90873016]]\n",
      "####input######## [2 3]\n",
      "#####Expected output###### [1. 0.]\n",
      "#####output####### [[0.91378203 0.90873016]]\n",
      "*******************************************\n",
      "iteration error: 4 :::: [[ 0.08500619 -0.89366164]]\n",
      "####input######## [2 3]\n",
      "#####Expected output###### [1. 0.]\n",
      "#####output####### [[0.91499381 0.89366164]]\n"
     ]
    }
   ],
   "source": [
    "#program 5\n",
    "import numpy as np\n",
    "\n",
    "inputNeurons= 2\n",
    "hiddenlayerNeurons=4\n",
    "outputNeurons=2\n",
    "iteration=5\n",
    "\n",
    "input = np.random.randint(1,5,inputNeurons)\n",
    "output = np.array([1.0,0.0])\n",
    "hidden_layer=np.random.rand(1,hiddenlayerNeurons)\n",
    "\n",
    "hidden_biass=np.random.rand(1,hiddenlayerNeurons)\n",
    "output_biass=np.random.rand(1,outputNeurons)\n",
    "hidden_weights=np.random.rand(inputNeurons,hiddenlayerNeurons)\n",
    "output_weights=np.random.rand(hiddenlayerNeurons,outputNeurons)\n",
    "\n",
    "def sigmoid(layer):\n",
    "    return 1/(1+np.exp(-layer))\n",
    "\n",
    "def gradient(layer):\n",
    "    return layer*(1-layer)\n",
    "\n",
    "for i in range(iteration):\n",
    "    hidden_layer=np.dot(input,hidden_weights)\n",
    "    hidden_layer=sigmoid(hidden_layer+hidden_biass)\n",
    "    \n",
    "    output_layer=np.dot(hidden_layer,output_weights)\n",
    "    output_layer=sigmoid(output_layer+output_biass)\n",
    "    \n",
    "    error=(output-output_layer)\n",
    "    gradient_OutputLayer=gradient(output_layer)\n",
    "    error_terms_output=gradient_outputLayer=error\n",
    "    error_terms_hidden=gradient(hidden_layer)*np.dot(error_terms_output,output_weights.T)\n",
    "    \n",
    "    gradient_hidden_weights=np.dot(input.reshape(inputNeurons,1),error_terms_hidden.reshape(1,hiddenlayerNeurons))\n",
    "    gradient_output_weights=np.dot(hidden_layer.reshape(hiddenlayerNeurons,1),error_terms_output.reshape(1,outputNeurons))\n",
    " \n",
    "    hidden_weights = hidden_weights + 0.05*gradient_hidden_weights\n",
    "    output_weights = output_weights + 0.05*gradient_output_weights\n",
    "    if i<50 or i>iteration-50:\n",
    "        print(\"*******************************************\")\n",
    "        print(\"iteration error:\",i,\"::::\", error)\n",
    "        print(\"####input########\",input)\n",
    "        print(\"#####Expected output######\",output)\n",
    "        print(\"#####output#######\",output_layer)\n",
    "        \n",
    "        "
   ]
  },
  {
   "cell_type": "code",
   "execution_count": null,
   "id": "ad125e84",
   "metadata": {},
   "outputs": [],
   "source": []
  },
  {
   "cell_type": "code",
   "execution_count": null,
   "id": "e1756146",
   "metadata": {},
   "outputs": [],
   "source": []
  }
 ],
 "metadata": {
  "kernelspec": {
   "display_name": "Python 3 (ipykernel)",
   "language": "python",
   "name": "python3"
  },
  "language_info": {
   "codemirror_mode": {
    "name": "ipython",
    "version": 3
   },
   "file_extension": ".py",
   "mimetype": "text/x-python",
   "name": "python",
   "nbconvert_exporter": "python",
   "pygments_lexer": "ipython3",
   "version": "3.11.3"
  }
 },
 "nbformat": 4,
 "nbformat_minor": 5
}
